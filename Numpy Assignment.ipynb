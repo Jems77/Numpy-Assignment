{
 "cells": [
  {
   "cell_type": "code",
   "execution_count": 2,
   "id": "cc9c1472",
   "metadata": {},
   "outputs": [
    {
     "name": "stdout",
     "output_type": "stream",
     "text": [
      "[0 1 2 3 4 5]\n",
      "int64\n"
     ]
    }
   ],
   "source": [
    "# 1. Create a NumPy array 'arr' of integers from 0 to 5 and print its data type.\n",
    "\n",
    "import numpy as np\n",
    "arr = np.array(range(0, 6))\n",
    "print(arr)\n",
    "print(arr.dtype)\n",
    "\n",
    "# print(dtype(arr))\n"
   ]
  },
  {
   "cell_type": "code",
   "execution_count": 3,
   "id": "03414bb3",
   "metadata": {},
   "outputs": [
    {
     "name": "stdout",
     "output_type": "stream",
     "text": [
      "Yes\n",
      "float64\n"
     ]
    }
   ],
   "source": [
    "# 2. Given a NumPy array 'arr', check if its data type is float64.\n",
    "\n",
    "import numpy as np\n",
    "arr = np.array([1.5, 2.6, 3.7])\n",
    "if(arr.dtype == \"float64\"):\n",
    "    print(\"Yes\")\n",
    "else:\n",
    "    print(\"No\")\n",
    "print(arr.dtype)"
   ]
  },
  {
   "cell_type": "code",
   "execution_count": 5,
   "id": "df309269",
   "metadata": {},
   "outputs": [
    {
     "name": "stdout",
     "output_type": "stream",
     "text": [
      "[1.+2.j 3.+4.j 5.+6.j]\n",
      "complex128\n"
     ]
    }
   ],
   "source": [
    "# 3. Create a NumPy array 'arr' with a data type of complex128 containing three complex numbers.\n",
    "\n",
    "import numpy as np \n",
    "arr = np.array([1+2j, 3 + 4j, 5 + 6j], dtype = np.complex128)\n",
    "print(arr)\n",
    "print(arr.dtype)\n"
   ]
  },
  {
   "cell_type": "code",
   "execution_count": 8,
   "id": "f0e010c9",
   "metadata": {},
   "outputs": [
    {
     "name": "stdout",
     "output_type": "stream",
     "text": [
      "Original array [1 2 3 4 5 6] int64\n",
      "Converted array [1. 2. 3. 4. 5. 6.] float32\n"
     ]
    }
   ],
   "source": [
    "# 4. Convert an existing NumPy array 'arr' of integers to float32 data type.\n",
    "\n",
    "import numpy as np\n",
    "arr_int = np.array([1, 2, 3, 4, 5, 6])\n",
    "arr_float = arr_int.astype(np.float32)\n",
    "print(\"Original array\", arr_int, arr_int.dtype)\n",
    "print(\"Converted array\", arr_float, arr_float.dtype)\n"
   ]
  },
  {
   "cell_type": "code",
   "execution_count": 9,
   "id": "aecdee07",
   "metadata": {},
   "outputs": [
    {
     "name": "stdout",
     "output_type": "stream",
     "text": [
      "Original array (float64): [3.14159265 2.71828183 1.61803399] float64\n",
      "Converted array (float32): [3.1415927 2.7182817 1.618034 ] float32\n"
     ]
    }
   ],
   "source": [
    "# 5. Given a NumPy array 'arr' with float64 data type, convert it to float32 to reduce decimal precision.\n",
    "\n",
    "import numpy as np\n",
    "arr = np.array([3.141592653, 2.718281828, 1.618033988])\n",
    "arr_float32 = arr.astype(np.float32)\n",
    "print(\"Original array (float64):\", arr, arr.dtype)\n",
    "print(\"Converted array (float32):\", arr_float32, arr_float32.dtype)\n"
   ]
  },
  {
   "cell_type": "code",
   "execution_count": 10,
   "id": "14da75ee",
   "metadata": {},
   "outputs": [
    {
     "name": "stdout",
     "output_type": "stream",
     "text": [
      "{'shape': (2, 2), 'size': 4, 'data_type': dtype('int64')}\n"
     ]
    }
   ],
   "source": [
    "# 6. Write a function array_attributes that takes a NumPy array as input and returns its shape, size, and data type.\n",
    "\n",
    "import numpy as np\n",
    "def array_attributes(arr):\n",
    "    attributes = {\n",
    "    \"shape\": arr.shape,\n",
    "    \"size\": arr.size,\n",
    "    \"data_type\": arr.dtype\n",
    "  }\n",
    "    return attributes\n",
    "\n",
    "arr = np.array([[1, 2], [4, 5]])\n",
    "attributes = array_attributes(arr)\n",
    "print(attributes)\n"
   ]
  },
  {
   "cell_type": "code",
   "execution_count": 11,
   "id": "8513a527",
   "metadata": {},
   "outputs": [
    {
     "name": "stdout",
     "output_type": "stream",
     "text": [
      "3\n"
     ]
    }
   ],
   "source": [
    "# 7. Create a function array_dimension that takes a NumPy array as input and returns its dimensionality\n",
    "\n",
    "import numpy as np\n",
    "def array_dimension(arr):\n",
    "    dimension = arr.ndim\n",
    "    return dimension\n",
    "\n",
    "arr = np.array([[[1, 2], [3, 4], [5, 6]]])\n",
    "print(array_dimension(arr))"
   ]
  },
  {
   "cell_type": "code",
   "execution_count": 12,
   "id": "79de6158",
   "metadata": {},
   "outputs": [
    {
     "name": "stdout",
     "output_type": "stream",
     "text": [
      "{'item_size': 8, 'total_size': 40}\n"
     ]
    }
   ],
   "source": [
    "# 8. Design a function item_size_info that takes a NumPy array as input and returns the item size and the total size in bytes.\n",
    "\n",
    "import numpy as np\n",
    "def item_size_info(arr):\n",
    "    item_size = arr.dtype.itemsize  \n",
    "    total_size = arr.size * item_size  \n",
    "\n",
    "    info = {\n",
    "      \"item_size\": item_size,\n",
    "      \"total_size\": total_size\n",
    "  }\n",
    "    return info\n",
    "\n",
    "arr = np.array([1, 2, 3, 4, 5]) \n",
    "size_info = item_size_info(arr)\n",
    "print(size_info)\n",
    "\n"
   ]
  },
  {
   "cell_type": "code",
   "execution_count": 60,
   "id": "600ed16a",
   "metadata": {},
   "outputs": [
    {
     "name": "stdout",
     "output_type": "stream",
     "text": [
      "(12, 4)\n"
     ]
    }
   ],
   "source": [
    "# 9. Create a function array_strides that takes a NumPy array as input and returns the strides of the array\n",
    "\n",
    "import numpy as np\n",
    "def array_strides(arr):\n",
    "    return arr.strides\n",
    "arr = np.array([[1, 2, 3], [4, 5, 6]])\n",
    "print(array_strides(arr))"
   ]
  },
  {
   "cell_type": "code",
   "execution_count": 65,
   "id": "2f526902",
   "metadata": {},
   "outputs": [
    {
     "name": "stdout",
     "output_type": "stream",
     "text": [
      "{'shape': (2, 2), 'stride': (8, 4)}\n"
     ]
    }
   ],
   "source": [
    "# 10. Design a function shape_stride_relationship that takes a NumPy array as input and returns the shape and strides of the array.\n",
    "\n",
    "import numpy as np\n",
    "def shape_stride_relationship(arr):\n",
    "    shape = arr.shape\n",
    "    stride = arr.strides\n",
    "    relationship = {\n",
    "        \"shape\": shape,\n",
    "        \"stride\": stride\n",
    "    }\n",
    "    return relationship\n",
    "arr = np.array([[1, 2], [4, 5]])\n",
    "print(shape_stride_relationship(arr))\n",
    "    "
   ]
  },
  {
   "cell_type": "code",
   "execution_count": 30,
   "id": "3748133e",
   "metadata": {},
   "outputs": [
    {
     "name": "stdout",
     "output_type": "stream",
     "text": [
      "[0. 0. 0. 0. 0.]\n"
     ]
    }
   ],
   "source": [
    "# 11. Create a function `create_zeros_array` that takes an integer `n` as input and returns a NumPy array of zeros with `n` elements.\n",
    "\n",
    "import numpy as np\n",
    "def create_zeros_array(n):\n",
    "    return np.zeros(n) \n",
    "\n",
    "ans_11 = create_zeros_array(5)\n",
    "print(ans_11)\n",
    "    "
   ]
  },
  {
   "cell_type": "code",
   "execution_count": 27,
   "id": "5fe7b4e9",
   "metadata": {},
   "outputs": [
    {
     "name": "stdout",
     "output_type": "stream",
     "text": [
      "[[1 1 1 1]\n",
      " [1 1 1 1]\n",
      " [1 1 1 1]]\n"
     ]
    }
   ],
   "source": [
    "# 12. Write a function `create_ones_matrix` that takes integers `rows` and `cols` as inputs and generates a 2D \n",
    "# NumPy array filled with ones of size `rows x cols`.\n",
    "\n",
    "import numpy as np\n",
    "\n",
    "def create_ones_matrix(rows, cols, dtype):\n",
    "    return np.ones((rows, cols), dtype=dtype)\n",
    "\n",
    "ones_matrix = create_ones_matrix(3, 4, dtype=np.int32)\n",
    "print(ones_matrix)\n"
   ]
  },
  {
   "cell_type": "code",
   "execution_count": 31,
   "id": "8a4765ab",
   "metadata": {},
   "outputs": [
    {
     "data": {
      "text/plain": [
       "array([1, 3, 5, 7, 9])"
      ]
     },
     "execution_count": 31,
     "metadata": {},
     "output_type": "execute_result"
    }
   ],
   "source": [
    "# 13. Write a function `generate_range_array` that takes three integers start, stop, and step as arguments and creates a NumPy \n",
    "# array with a range starting from `start`, ending at stop (exclusive), and with the specified step.\n",
    "\n",
    "import numpy as np\n",
    "\n",
    "def generate_range_array(start, stop, step):\n",
    "    ans_13 = np.array(range(start,stop, step))\n",
    "    return ans_13\n",
    "\n",
    "generate_range_array(1, 10, 2)"
   ]
  },
  {
   "cell_type": "code",
   "execution_count": 42,
   "id": "3c16c165",
   "metadata": {},
   "outputs": [
    {
     "data": {
      "text/plain": [
       "array([0.        , 0.11111111, 0.22222222, 0.33333333, 0.44444444,\n",
       "       0.55555556, 0.66666667, 0.77777778, 0.88888889, 1.        ])"
      ]
     },
     "execution_count": 42,
     "metadata": {},
     "output_type": "execute_result"
    }
   ],
   "source": [
    "# 14. Design a function `generate_linear_space` that takes two floats `start`, `stop`, and an integer `num` as arguments and \n",
    "# generates a NumPy array with num equally spaced values between `start` and `stop` (inclusive).\n",
    "\n",
    "import numpy as np\n",
    "\n",
    "def generate_linear_space(start, stop, num):\n",
    "    ans_14 = np.linspace(start, stop, num)\n",
    "    return ans_14\n",
    "\n",
    "generate_linear_space(0.0, 1.0, 10)\n"
   ]
  },
  {
   "cell_type": "code",
   "execution_count": 43,
   "id": "b45e3e0c",
   "metadata": {},
   "outputs": [
    {
     "data": {
      "text/plain": [
       "array([[1., 0., 0.],\n",
       "       [0., 1., 0.],\n",
       "       [0., 0., 1.]])"
      ]
     },
     "execution_count": 43,
     "metadata": {},
     "output_type": "execute_result"
    }
   ],
   "source": [
    "# 15. Create a function `create_identity_matrix` that takes an integer `n` as input and generates a square identity matrix of \n",
    "# size `n x n` using `numpy.eye`.\n",
    "\n",
    "import numpy as np\n",
    "\n",
    "def create_identity_matrix(n):\n",
    "    return np.eye(n, n)\n",
    "\n",
    "create_identity_matrix(3)"
   ]
  },
  {
   "cell_type": "code",
   "execution_count": 44,
   "id": "862539fc",
   "metadata": {},
   "outputs": [
    {
     "data": {
      "text/plain": [
       "array(['1', '2', '3', 'Jems', '4.0', '2', 'S', '5'], dtype='<U32')"
      ]
     },
     "execution_count": 44,
     "metadata": {},
     "output_type": "execute_result"
    }
   ],
   "source": [
    "# 16. Write a function that takes a Python list and converts it into a NumPy array.\n",
    "\n",
    "import numpy as np\n",
    "\n",
    "def convert_to_array(l):\n",
    "    return np.array(l)\n",
    "\n",
    "List = [1, 2, 3, \"Jems\", 4.0, 2, \"S\", 5]\n",
    "convert_to_array(List)"
   ]
  },
  {
   "cell_type": "code",
   "execution_count": 48,
   "id": "b41841bd",
   "metadata": {},
   "outputs": [
    {
     "name": "stdout",
     "output_type": "stream",
     "text": [
      "Original Array: [1 2 3 4 5]\n",
      "View Array: [1 2 3 4 5]\n",
      "Modified View Array: [99  2  3  4  5]\n",
      "Original Array after modification through view: [99  2  3  4  5]\n",
      "Reshaped View Array:\n",
      " [[99]\n",
      " [ 2]\n",
      " [ 3]\n",
      " [ 4]\n",
      " [ 5]]\n",
      "Modified Reshaped View Array:\n",
      " [[100]\n",
      " [  2]\n",
      " [  3]\n",
      " [  4]\n",
      " [  5]]\n",
      "Original Array after modification through reshaped view: [100   2   3   4   5]\n"
     ]
    }
   ],
   "source": [
    "# 17. Create a NumPy array and demonstrate the use of `numpy.view` to create a new array object with the same data.\n",
    "\n",
    "import numpy as np\n",
    "\n",
    "original_array = np.array([1, 2, 3, 4, 5])\n",
    "print(\"Original Array:\", original_array)\n",
    "\n",
    "view_array = original_array.view()\n",
    "print(\"View Array:\", view_array)\n",
    "\n",
    "view_array[0] = 99\n",
    "print(\"Modified View Array:\", view_array)\n",
    "print(\"Original Array after modification through view:\", original_array)\n",
    "\n",
    "reshaped_view = view_array.view().reshape((5, 1))\n",
    "print(\"Reshaped View Array:\\n\", reshaped_view)\n",
    "\n",
    "reshaped_view[0, 0] = 100\n",
    "print(\"Modified Reshaped View Array:\\n\", reshaped_view)\n",
    "print(\"Original Array after modification through reshaped view:\", original_array)\n"
   ]
  },
  {
   "cell_type": "code",
   "execution_count": 71,
   "id": "74b2b952",
   "metadata": {},
   "outputs": [
    {
     "name": "stdout",
     "output_type": "stream",
     "text": [
      "Concatenated along axis 0:\n",
      " [[ 1  2  3]\n",
      " [ 4  5  6]\n",
      " [ 7  8  9]\n",
      " [10 11 12]]\n",
      "Concatenated along axis 1:\n",
      " [[ 1  2  3  7  8  9]\n",
      " [ 4  5  6 10 11 12]]\n"
     ]
    }
   ],
   "source": [
    "# 18. Write a function that takes two NumPy arrays and concatenates them along a specified axis.\n",
    "\n",
    "import numpy as np\n",
    "\n",
    "def concatenate_arrays(array1, array2, axis):\n",
    "        concatenated_array = np.concatenate((array1, array2), axis=axis)\n",
    "        return concatenated_array\n",
    "\n",
    "array1 = np.array([[1, 2, 3], [4, 5, 6]])\n",
    "array2 = np.array([[7, 8, 9], [10, 11, 12]])\n",
    "\n",
    "# Concatenate along the first axis (rows)\n",
    "result_axis_0 = concatenate_arrays(array1, array2, axis=0)\n",
    "print(\"Concatenated along axis 0:\\n\", result_axis_0)\n",
    "\n",
    "# Concatenate along the second axis (columns)\n",
    "result_axis_1 = concatenate_arrays(array1, array2, axis=1)\n",
    "print(\"Concatenated along axis 1:\\n\", result_axis_1)\n"
   ]
  },
  {
   "cell_type": "code",
   "execution_count": 74,
   "id": "0908e934",
   "metadata": {},
   "outputs": [
    {
     "name": "stdout",
     "output_type": "stream",
     "text": [
      "[[ 1  2  3  7  8  9 10]\n",
      " [ 4  5  6 11 12 13 14]]\n"
     ]
    }
   ],
   "source": [
    "# 19.  Create two NumPy arrays with different shapes and concatenate them horizontally using `numpy concatenate`.\n",
    "\n",
    "arr1 = np.array([[1, 2, 3], [4, 5, 6]])\n",
    "arr2 = np.array([[7, 8, 9, 10], [11, 12, 13, 14]])\n",
    "\n",
    "ans_19 = np.concatenate((arr1, arr2), axis = 1)\n",
    "print(ans_19)"
   ]
  },
  {
   "cell_type": "code",
   "execution_count": 82,
   "id": "a67d8852",
   "metadata": {},
   "outputs": [
    {
     "name": "stdout",
     "output_type": "stream",
     "text": [
      "Vertically Stacked array: \n",
      " [[1 2 3]\n",
      " [4 5 6]\n",
      " [7 8 9]]\n"
     ]
    }
   ],
   "source": [
    "# 20. Write a function that vertically stacks multiple NumPy arrays given as a list.\n",
    "\n",
    "import numpy as np\n",
    "\n",
    "def vertical_concat(arrays):\n",
    "    return np.vstack(arrays)\n",
    "\n",
    "array1 = np.array([[1, 2, 3]])\n",
    "array2 = np.array([[4, 5, 6]])\n",
    "array3 = np.array([[7, 8, 9]])\n",
    "\n",
    "arrays = [array1, array2, array3]\n",
    "\n",
    "ans_20 = vertical_concat(arrays)\n",
    "print(\"Vertically Stacked array: \\n\", ans_20)\n"
   ]
  },
  {
   "cell_type": "code",
   "execution_count": 85,
   "id": "c1783b0f",
   "metadata": {},
   "outputs": [
    {
     "data": {
      "text/plain": [
       "array([1, 3, 5, 7, 9])"
      ]
     },
     "execution_count": 85,
     "metadata": {},
     "output_type": "execute_result"
    }
   ],
   "source": [
    "# 21. Write a Python function using NumPy to create an array of integers within a specified range (inclusive) with a given \n",
    "# step size.\n",
    "\n",
    "import numpy as np\n",
    "\n",
    "def arr_range(start, stop, step):\n",
    "    return np.array(range(start, stop + 1, step))\n",
    "\n",
    "arr_range(1, 10, 2)\n"
   ]
  },
  {
   "cell_type": "code",
   "execution_count": 87,
   "id": "50d19728",
   "metadata": {},
   "outputs": [
    {
     "data": {
      "text/plain": [
       "array([0.        , 0.11111111, 0.22222222, 0.33333333, 0.44444444,\n",
       "       0.55555556, 0.66666667, 0.77777778, 0.88888889, 1.        ])"
      ]
     },
     "execution_count": 87,
     "metadata": {},
     "output_type": "execute_result"
    }
   ],
   "source": [
    "# 22. Write a Python function using NumPy to generate an array of 10 equally spaced values between 0 and 1 (inclusive).\n",
    "\n",
    "import numpy as np\n",
    "\n",
    "def arr_eqspaced(start, stop, step):\n",
    "    array = np.linspace(start, stop, step)\n",
    "    return array\n",
    "\n",
    "arr_eqspaced(0, 1, 10)"
   ]
  },
  {
   "cell_type": "code",
   "execution_count": 4,
   "id": "fe813530",
   "metadata": {},
   "outputs": [
    {
     "name": "stdout",
     "output_type": "stream",
     "text": [
      "[   1.            5.62341325   31.6227766   177.827941   1000.        ]\n"
     ]
    }
   ],
   "source": [
    "# 23. Write a Python function using NumPy to create an array of 5 logarithmically spaced values between 1 and 1000 (inclusive).\n",
    "\n",
    "import numpy as np\n",
    "def arr_log(start, stop, step):\n",
    "    array = np.logspace(start, stop, step)\n",
    "    return array\n",
    "\n",
    "ans_23 = arr_log(0, 3, 5) # 10^0 = 1, 10^3 = 1000, 5\n",
    "print(ans_23)\n"
   ]
  },
  {
   "cell_type": "code",
   "execution_count": 18,
   "id": "07eaff62",
   "metadata": {},
   "outputs": [
    {
     "name": "stdout",
     "output_type": "stream",
     "text": [
      "[[54  7 92]\n",
      " [73 95 46]\n",
      " [39 85 94]\n",
      " [61  6 94]\n",
      " [78  4 21]]\n"
     ]
    },
    {
     "data": {
      "text/html": [
       "<div>\n",
       "<style scoped>\n",
       "    .dataframe tbody tr th:only-of-type {\n",
       "        vertical-align: middle;\n",
       "    }\n",
       "\n",
       "    .dataframe tbody tr th {\n",
       "        vertical-align: top;\n",
       "    }\n",
       "\n",
       "    .dataframe thead th {\n",
       "        text-align: right;\n",
       "    }\n",
       "</style>\n",
       "<table border=\"1\" class=\"dataframe\">\n",
       "  <thead>\n",
       "    <tr style=\"text-align: right;\">\n",
       "      <th></th>\n",
       "      <th>0</th>\n",
       "      <th>1</th>\n",
       "      <th>2</th>\n",
       "    </tr>\n",
       "  </thead>\n",
       "  <tbody>\n",
       "    <tr>\n",
       "      <th>0</th>\n",
       "      <td>54</td>\n",
       "      <td>7</td>\n",
       "      <td>92</td>\n",
       "    </tr>\n",
       "    <tr>\n",
       "      <th>1</th>\n",
       "      <td>73</td>\n",
       "      <td>95</td>\n",
       "      <td>46</td>\n",
       "    </tr>\n",
       "    <tr>\n",
       "      <th>2</th>\n",
       "      <td>39</td>\n",
       "      <td>85</td>\n",
       "      <td>94</td>\n",
       "    </tr>\n",
       "    <tr>\n",
       "      <th>3</th>\n",
       "      <td>61</td>\n",
       "      <td>6</td>\n",
       "      <td>94</td>\n",
       "    </tr>\n",
       "    <tr>\n",
       "      <th>4</th>\n",
       "      <td>78</td>\n",
       "      <td>4</td>\n",
       "      <td>21</td>\n",
       "    </tr>\n",
       "  </tbody>\n",
       "</table>\n",
       "</div>"
      ],
      "text/plain": [
       "    0   1   2\n",
       "0  54   7  92\n",
       "1  73  95  46\n",
       "2  39  85  94\n",
       "3  61   6  94\n",
       "4  78   4  21"
      ]
     },
     "execution_count": 18,
     "metadata": {},
     "output_type": "execute_result"
    }
   ],
   "source": [
    "# 24. Create a Pandas DataFrame using a NumPy array that contains 5 rows and 3 columns, where the values are random integers \n",
    "# between 1 and 100.\n",
    "\n",
    "import numpy as np\n",
    "import pandas as pd\n",
    "\n",
    "arr_24 = np.random.randint(1, 101, size = (5, 3))\n",
    "print(arr_24)\n",
    "\n",
    "df_24 = pd.DataFrame(arr_24)\n",
    "df_24"
   ]
  },
  {
   "cell_type": "code",
   "execution_count": 22,
   "id": "6c7aabc9",
   "metadata": {},
   "outputs": [
    {
     "name": "stdout",
     "output_type": "stream",
     "text": [
      "Original dataframe is: \n",
      "    A  B   C\n",
      "0  1 -1  10\n",
      "1 -2  2  20\n",
      "2  3 -3 -30\n",
      "3 -4  4  40\n",
      "4  5 -5  50\n",
      "Modified Dataframe is \n",
      "    A  B   C\n",
      "0  1  0  10\n",
      "1 -2  2  20\n",
      "2  3  0 -30\n",
      "3 -4  4  40\n",
      "4  5  0  50\n"
     ]
    }
   ],
   "source": [
    "# 25. Write a function that takes a Pandas DataFrame and replaces all negative values in a specific column with zeros. \n",
    "# Use NumPy operations within the Pandas DataFrame.\n",
    "\n",
    "import numpy as np\n",
    "import pandas as pd\n",
    "\n",
    "def negative_to_zero_replace(df_25, column_name):\n",
    "    if column_name in df_25.columns:\n",
    "        df_25[column_name] = np.where(df_25[column_name] < 0, 0, df_25[column_name])\n",
    "    else:\n",
    "        print(\"The column name you've entered is not exist\")\n",
    "        \n",
    "    return df_25\n",
    "\n",
    "data = {\n",
    "    'A': [1, -2, 3, -4, 5],\n",
    "    'B': [-1, 2, -3, 4, -5],\n",
    "    'C': [10, 20, -30, 40, 50]\n",
    "}\n",
    "df_25 = pd.DataFrame(data)\n",
    "\n",
    "print(\"Original dataframe is: \\n\", df_25)\n",
    "\n",
    "ans_25 = negative_to_zero_replace(df_25, 'B')\n",
    "print(\"Modified Dataframe is \\n\", ans_25)\n"
   ]
  },
  {
   "cell_type": "code",
   "execution_count": 23,
   "id": "3f4e03d2",
   "metadata": {},
   "outputs": [
    {
     "name": "stdout",
     "output_type": "stream",
     "text": [
      "30\n"
     ]
    }
   ],
   "source": [
    "# 26. Access the 3rd element from the given NumPy array.\n",
    "\n",
    "import numpy as np\n",
    "arr_26 = np.array([10, 20, 30, 40, 50])\n",
    "print(arr_26[2])"
   ]
  },
  {
   "cell_type": "code",
   "execution_count": 27,
   "id": "af6a8e73",
   "metadata": {},
   "outputs": [
    {
     "name": "stdout",
     "output_type": "stream",
     "text": [
      "6\n"
     ]
    }
   ],
   "source": [
    "# 27. Retrieve the element at index (1, 2) from the 2D NumPy array.\n",
    "\n",
    "import numpy as np\n",
    "arr_27 = np.array([[1, 2, 3],\n",
    "                  [4, 5, 6],\n",
    "                  [7, 8, 9]])\n",
    "\n",
    "ans_27 = arr_27[1, 2]\n",
    "print(ans_27)"
   ]
  },
  {
   "cell_type": "code",
   "execution_count": 29,
   "id": "4dad85c9",
   "metadata": {},
   "outputs": [
    {
     "name": "stdout",
     "output_type": "stream",
     "text": [
      "[ 8 10  7]\n"
     ]
    }
   ],
   "source": [
    "# 28. Using boolean indexing, extract elements greater than 5 from the given NumPy array.\n",
    "\n",
    "import numpy as np\n",
    "arr_28 = np.array([3, 8, 2, 10, 5, 7])\n",
    "ans_28 = arr_28[arr_28 > 5]\n",
    "print(ans_28)\n"
   ]
  },
  {
   "cell_type": "code",
   "execution_count": 30,
   "id": "86c16bb3",
   "metadata": {},
   "outputs": [
    {
     "name": "stdout",
     "output_type": "stream",
     "text": [
      "[3 4 5 6]\n"
     ]
    }
   ],
   "source": [
    "# 29. Perform basic slicing to extract elements from index 2 to 5 (inclusive) from the given NumPy array.\n",
    "\n",
    "import numpy as np\n",
    "\n",
    "arr_29 = np.array([1, 2, 3, 4, 5, 6, 7, 8, 9])\n",
    "print(arr_29[2:6])"
   ]
  },
  {
   "cell_type": "code",
   "execution_count": 39,
   "id": "2d211170",
   "metadata": {},
   "outputs": [
    {
     "name": "stdout",
     "output_type": "stream",
     "text": [
      "[[2 3]\n",
      " [5 6]]\n"
     ]
    }
   ],
   "source": [
    "# 30. Slice the 2D NumPy array to extract the sub-array `[[2, 3], [5, 6]]` from the given array.\n",
    "\n",
    "import numpy as np\n",
    "\n",
    "arr_30 = np.array([[1, 2, 3],\n",
    "                 [4, 5, 6], \n",
    "                 [7, 8, 9]])\n",
    "\n",
    "ans_30 = arr_30[0:2, 1:3]\n",
    "print(ans_30)"
   ]
  },
  {
   "cell_type": "code",
   "execution_count": 43,
   "id": "ac2acc41",
   "metadata": {},
   "outputs": [
    {
     "name": "stdout",
     "output_type": "stream",
     "text": [
      "[2 9 4]\n"
     ]
    }
   ],
   "source": [
    "# 31.Write a NumPy function to extract elements in specific order from a given 2D array based on indices provided in \n",
    "# another array.\n",
    "\n",
    "import numpy as np\n",
    "\n",
    "def extract_elements(arr_31, indices):\n",
    "    return arr_31[indices[:,0], indices[:,1]] \n",
    "\n",
    "arr_31 = np.array([\n",
    "    [1, 2, 3],\n",
    "    [4, 5, 6],\n",
    "    [7, 8, 9]\n",
    "])\n",
    "\n",
    "indices = np.array([\n",
    "    [0, 1],\n",
    "    [2, 2],\n",
    "    [1, 0]\n",
    "])\n",
    "\n",
    "ans_31 = extract_elements(arr_31, indices)\n",
    "print(ans_31) \n"
   ]
  },
  {
   "cell_type": "code",
   "execution_count": 59,
   "id": "e13b9735",
   "metadata": {},
   "outputs": [
    {
     "name": "stdout",
     "output_type": "stream",
     "text": [
      "[12 10 15 13]\n"
     ]
    }
   ],
   "source": [
    "# 32. Create a NumPy function that filters elements greater than a threshold from a given 1D array using boolean indexing.\n",
    "\n",
    "import numpy as np\n",
    "def filter_elements(arr_32, temp):\n",
    "    return arr_32[arr_32 > temp]\n",
    "\n",
    "arr_32 = np.array([6, 12, 4, 1, 10, 9, 15, 13])\n",
    "threshold = 9\n",
    "ans_32 = filter_elements(arr_32, threshold)\n",
    "print(ans_32)"
   ]
  },
  {
   "cell_type": "code",
   "execution_count": 18,
   "id": "85e038ef",
   "metadata": {},
   "outputs": [
    {
     "name": "stdout",
     "output_type": "stream",
     "text": [
      "[ 5 10 24]\n"
     ]
    }
   ],
   "source": [
    "# 33. Develop a NumPy function that extracts specific elements from a 3D array using indices provided in three separate arrays \n",
    "#  for each dimension.\n",
    "\n",
    "import numpy as np\n",
    "def extract_3d(arr_33, indices):\n",
    "    return arr_33[indices[0], indices[1], indices[2]]\n",
    "\n",
    "arr_33 = np.arange(27).reshape(3, 3, 3)\n",
    "\n",
    "x_indices = np.array([0, 1, 2])\n",
    "y_indices = np.array([1, 0, 2])\n",
    "z_indices = np.array([2, 1, 0])\n",
    "\n",
    "ans_33 = extract_3d(arr_33, (x_indices, y_indices, z_indices))\n",
    "print(ans_33)\n"
   ]
  },
  {
   "cell_type": "code",
   "execution_count": 26,
   "id": "38667dc5",
   "metadata": {},
   "outputs": [
    {
     "name": "stdout",
     "output_type": "stream",
     "text": [
      "[4 5 2 8]\n"
     ]
    }
   ],
   "source": [
    "# 34. Write a NumPy function that returns elements from an array where both two conditions are satisfied using boolean indexing.\n",
    "\n",
    "import numpy as np\n",
    "\n",
    "def two_condition(arr, condition_1, condition_2):\n",
    "    return arr[(condition_1) & (condition_2)]\n",
    "\n",
    "arr_34 = np.array([-4, -2, -5, 1, 4, 5, 2, -6, 8, 9])\n",
    "\n",
    "condition_1 = arr_34 > 1\n",
    "condition_2 = arr_34 <= 8\n",
    "ans_34 = two_condition(arr_34, condition_1, condition_2)\n",
    "print(ans_34)"
   ]
  },
  {
   "cell_type": "code",
   "execution_count": 30,
   "id": "55f73e12",
   "metadata": {},
   "outputs": [
    {
     "name": "stdout",
     "output_type": "stream",
     "text": [
      "[[0 1 2]\n",
      " [3 4 5]\n",
      " [6 7 8]]\n",
      "Extracted Elements are: [3 8 4]\n"
     ]
    }
   ],
   "source": [
    "# 35. Create a NumPy function that extracts elements from a 2D array using row and column indices provided in separate arrays.\n",
    "\n",
    "import numpy as np\n",
    "\n",
    "def extract_2d(arr, indices):\n",
    "    return arr[indices[0], indices[1]]\n",
    "\n",
    "arr_35 = np.arange(9).reshape(3, 3)\n",
    "\n",
    "row_indices = np.array([1, 2, 1])\n",
    "col_indices = np.array([0, 2, 1])\n",
    "\n",
    "print(arr_35)\n",
    "ans_35 = extract_2d(arr_35, (row_indices, col_indices))\n",
    "print(\"Extracted Elements are:\", ans_35)"
   ]
  },
  {
   "cell_type": "code",
   "execution_count": 34,
   "id": "d8f02353",
   "metadata": {},
   "outputs": [
    {
     "name": "stdout",
     "output_type": "stream",
     "text": [
      "Original Array: \n",
      " [[0 1 2]\n",
      " [3 4 5]\n",
      " [6 7 8]]\n",
      "Broadcasted Array: \n",
      " [[ 5  6  7]\n",
      " [ 8  9 10]\n",
      " [11 12 13]]\n"
     ]
    }
   ],
   "source": [
    "# 36. Given an array arr of shape (3, 3), add a scalar value of 5 to each element using NumPy broadcasting.\n",
    "\n",
    "import numpy as np\n",
    "\n",
    "arr_36 = np.arange(9).reshape(3, 3)\n",
    "print(\"Original Array: \\n\", arr_36)\n",
    "print(\"Broadcasted Array: \\n\", arr_36 + 5)"
   ]
  },
  {
   "cell_type": "code",
   "execution_count": 38,
   "id": "a661e12a",
   "metadata": {},
   "outputs": [
    {
     "name": "stdout",
     "output_type": "stream",
     "text": [
      "[[ 2  4  6  8]\n",
      " [15 18 21 24]\n",
      " [36 40 44 48]]\n"
     ]
    }
   ],
   "source": [
    "# 37. Consider two arrays arr1 of shape (1, 3) and arr2 of shape (3, 4). Multiply each row of arr2 by the corresponding element \n",
    "# in arr1 using NumPy broadcasting.\n",
    "\n",
    "import numpy as np\n",
    "\n",
    "arr1 = np.array([[2, 3, 4]])\n",
    "arr2 = np.array([[1, 2, 3, 4],\n",
    "                 [5, 6, 7, 8],\n",
    "                 [9, 10, 11, 12]])\n",
    "\n",
    "arr1 = arr1.reshape(3, 1)\n",
    "ans_37 = arr2 * arr1\n",
    "print(ans_37)"
   ]
  },
  {
   "cell_type": "code",
   "execution_count": 46,
   "id": "1c57d75c",
   "metadata": {},
   "outputs": [
    {
     "name": "stdout",
     "output_type": "stream",
     "text": [
      "[[ 2  3  4]\n",
      " [ 6  7  8]\n",
      " [10 11 12]\n",
      " [14 15 16]]\n"
     ]
    }
   ],
   "source": [
    "# 38. Given a 1D array arr1 of shape (1, 4) and a 2D array arr2 of shape (4, 3), add arr1 to each row of arr2 using NumPy broadcasting.\n",
    "\n",
    "import numpy as np\n",
    "\n",
    "arr1 = np.array([[1, 2, 3, 4]])\n",
    "arr2 = np.array([[1, 2, 3],\n",
    "                 [4, 5, 6],\n",
    "                 [7, 8, 9],\n",
    "                 [10, 11, 12]])\n",
    "\n",
    "arr1 = arr1.reshape(4, 1)\n",
    "ans_38 = arr1 + arr2\n",
    "print(ans_38)"
   ]
  },
  {
   "cell_type": "code",
   "execution_count": 50,
   "id": "195eb572",
   "metadata": {},
   "outputs": [
    {
     "name": "stdout",
     "output_type": "stream",
     "text": [
      "[[11 21 31]\n",
      " [12 22 32]\n",
      " [13 23 33]]\n"
     ]
    }
   ],
   "source": [
    "# 39. Consider two arrays arr1 of shape (3, 1) and arr2 of shape (1, 3). Add these arrays using NumPy broadcasting.\n",
    "\n",
    "import numpy as np\n",
    "\n",
    "arr1 = np.array([[1], [2], [3]]) \n",
    "arr2 = np.array([[10, 20, 30]]) \n",
    "\n",
    "ans_39 = arr1 + arr2\n",
    "print(ans_39)"
   ]
  },
  {
   "cell_type": "code",
   "execution_count": 71,
   "id": "26a4f141",
   "metadata": {},
   "outputs": [
    {
     "name": "stdout",
     "output_type": "stream",
     "text": [
      "[[[ 7  8]\n",
      "  [14 16]\n",
      "  [21 24]]\n",
      "\n",
      " [[36 40]\n",
      "  [45 50]\n",
      "  [54 60]]]\n"
     ]
    }
   ],
   "source": [
    "# 40. Given arrays arr1 of shape (2, 3) and arr2 of shape (2, 2), perform multiplication using NumPy broadcasting. \n",
    "#  Handle the shape incompatibility.\n",
    "\n",
    "import numpy as np\n",
    "\n",
    "arr1 = np.array([[1, 2, 3], \n",
    "                [4, 5, 6]])\n",
    "\n",
    "arr2 = np.array([[7, 8], \n",
    "                [9, 10]])\n",
    "\n",
    "arr2_expanded = arr2[:, np.newaxis, :]\n",
    "\n",
    "ans_40 = arr1[:, :, np.newaxis] * arr2_expanded\n",
    "print(ans_40)"
   ]
  },
  {
   "cell_type": "code",
   "execution_count": 73,
   "id": "c9d674ad",
   "metadata": {},
   "outputs": [
    {
     "name": "stdout",
     "output_type": "stream",
     "text": [
      "[2.5 3.5 4.5]\n"
     ]
    }
   ],
   "source": [
    "# 41. Calculate column-wise mean for the given array:\n",
    "\n",
    "import numpy as np\n",
    "arr_41 = np.array([[1, 2, 3], [4, 5, 6]])\n",
    "\n",
    "ans_41 = np.mean(arr_41, axis = 0)\n",
    "print(ans_41)"
   ]
  },
  {
   "cell_type": "code",
   "execution_count": 74,
   "id": "52d0fc96",
   "metadata": {},
   "outputs": [
    {
     "name": "stdout",
     "output_type": "stream",
     "text": [
      "[3 6]\n"
     ]
    }
   ],
   "source": [
    "# 42. Find maximum value in each row of the given array:\n",
    "\n",
    "import numpy as np\n",
    "arr_42 = np.array([[1, 2, 3], [4, 5, 6]])\n",
    "\n",
    "ans_42 = np.max(arr_42, axis = 1)\n",
    "print(ans_42)\n"
   ]
  },
  {
   "cell_type": "code",
   "execution_count": 75,
   "id": "47e4fa95",
   "metadata": {},
   "outputs": [
    {
     "name": "stdout",
     "output_type": "stream",
     "text": [
      "[1 1 1]\n"
     ]
    }
   ],
   "source": [
    "# 43. For the given array, find indices of maximum value in each column.\n",
    "\n",
    "import numpy as np\n",
    "\n",
    "arr_43 = arr = np.array([[1, 2, 3], [4, 5, 6]])\n",
    "\n",
    "ans_43 = np.argmax(arr_42, axis = 0)\n",
    "print(ans_43)"
   ]
  },
  {
   "cell_type": "code",
   "execution_count": 30,
   "id": "831f98be",
   "metadata": {},
   "outputs": [
    {
     "name": "stdout",
     "output_type": "stream",
     "text": [
      "[[ 3.  5.]\n",
      " [ 9. 11.]]\n"
     ]
    }
   ],
   "source": [
    "# 44. For the given array, apply custom function to calculate moving sum along rows\n",
    "\n",
    "import numpy as np\n",
    "\n",
    "def moving_sum_along_rows(arr, windows_size):\n",
    "    rows, col = arr.shape\n",
    "    moving_sum = np.zeros((rows, col - windows_size + 1))\n",
    "    \n",
    "    for i in range(rows):\n",
    "        for j in range(col - windows_size + 1):\n",
    "            moving_sum[i, j] = np.sum(arr[i, j:j + windows_size])\n",
    "    return moving_sum\n",
    "\n",
    "arr_44 = np.array([[1, 2, 3], [4, 5, 6]])\n",
    "windows_size = 2\n",
    "ans_44 = moving_sum_along_rows(arr_44, windows_size)\n",
    "print(ans_44)\n"
   ]
  },
  {
   "cell_type": "code",
   "execution_count": 38,
   "id": "d7d85454",
   "metadata": {},
   "outputs": [
    {
     "name": "stdout",
     "output_type": "stream",
     "text": [
      "False\n"
     ]
    }
   ],
   "source": [
    "# 45. In the given array, check if all elements in each column are even.\n",
    "\n",
    "import numpy as np\n",
    "\n",
    "def iseven(arr):\n",
    "    return np.all(arr % 2 == 0, axis = 0).all()\n",
    "    \n",
    "arr_45 = np.array([[2, 4, 6], [3, 5, 7]])\n",
    "ans_45 = iseven(arr_45)\n",
    "print(ans_45)"
   ]
  },
  {
   "cell_type": "code",
   "execution_count": 39,
   "id": "b39a20d2",
   "metadata": {},
   "outputs": [
    {
     "name": "stdout",
     "output_type": "stream",
     "text": [
      "[[1 2 3]\n",
      " [4 5 6]]\n"
     ]
    }
   ],
   "source": [
    "# 46. Given a NumPy array arr, reshape it into a matrix of dimensions `m` rows and `n` columns. Return the reshaped matrix.\n",
    "\n",
    "import numpy as np\n",
    "\n",
    "def reshape_arr(arr, m, n):\n",
    "    return arr.reshape(m, n)\n",
    "\n",
    "arr_46 = np.array([1, 2, 3, 4, 5, 6])\n",
    "m = 2\n",
    "n = 3\n",
    "\n",
    "ans_46 = reshape_arr(arr_46, m, n)\n",
    "print(ans_46)\n",
    "\n"
   ]
  },
  {
   "cell_type": "code",
   "execution_count": 45,
   "id": "70b085a4",
   "metadata": {},
   "outputs": [
    {
     "name": "stdout",
     "output_type": "stream",
     "text": [
      "Array befor flatten \n",
      " [[1 2 3]\n",
      " [4 5 6]]\n",
      "Array after flatten \n",
      " [1 2 3 4 5 6]\n"
     ]
    }
   ],
   "source": [
    "# 47. Create a function that takes a matrix as input and returns the flattened array.\n",
    "\n",
    "import numpy as np\n",
    "\n",
    "def flattened(arr):\n",
    "    return arr.flatten()\n",
    "\n",
    "arr_47 = np.array([[1, 2, 3], [4, 5, 6]])\n",
    "print(\"Array befor flatten \\n\", arr_47)\n",
    "ans_47 = flattened(arr_47)\n",
    "print(\"Array after flatten \\n\", ans_47)"
   ]
  },
  {
   "cell_type": "code",
   "execution_count": 55,
   "id": "3c770a71",
   "metadata": {},
   "outputs": [
    {
     "name": "stdout",
     "output_type": "stream",
     "text": [
      "[[1 2 5 6]\n",
      " [3 4 7 8]]\n"
     ]
    }
   ],
   "source": [
    "# 48. Write a function that concatenates two given arrays along a specified axis.\n",
    "\n",
    "import numpy as np\n",
    "\n",
    "def concatenate(arr1, arr2):\n",
    "    return np.concatenate((arr1, arr2), axis = 1)\n",
    "\n",
    "array1 = np.array([[1, 2], [3, 4]])\n",
    "array2 = np.array([[5, 6], [7, 8]])\n",
    "\n",
    "ans_48 = concatenate(array1, array2)\n",
    "print(ans_48)"
   ]
  },
  {
   "cell_type": "code",
   "execution_count": 68,
   "id": "b9934f15",
   "metadata": {},
   "outputs": [
    {
     "name": "stdout",
     "output_type": "stream",
     "text": [
      "[array([[1, 2, 3]]), array([[4, 5, 6],\n",
      "       [7, 8, 9]])]\n"
     ]
    }
   ],
   "source": [
    "# 49. Create a function that splits an array into multiple sub-arrays along a specified axis.\n",
    "\n",
    "import numpy as np\n",
    "\n",
    "def split_arr(arr):\n",
    "    return np.split(arr, [1], axis = 0)\n",
    "\n",
    "arr_49 = np.array([[1, 2, 3], [4, 5, 6], [7, 8, 9]])\n",
    "ans_49 = split_arr(arr_49)\n",
    "print(ans_49)"
   ]
  },
  {
   "cell_type": "code",
   "execution_count": 76,
   "id": "15d8253a",
   "metadata": {},
   "outputs": [
    {
     "name": "stdout",
     "output_type": "stream",
     "text": [
      "Array after inserting values \n",
      " [ 1  2 10  3  4 11  5]\n",
      "Array after deleting values \n",
      " [ 1 10  4 11  5]\n",
      "Final Modified array \n",
      " [ 1 10  4 11  5]\n"
     ]
    }
   ],
   "source": [
    "# 50. Write a function that inserts and then deletes elements from a given array at specified indices.\n",
    "\n",
    "import numpy as np \n",
    "\n",
    "def insert_delete(arr, values, index, deletion_index):\n",
    "    arr = np.insert(arr, index, values)\n",
    "    print(\"Array after inserting values \\n\", arr)\n",
    "    arr = np.delete(arr, deletion_index)\n",
    "    print(\"Array after deleting values \\n\", arr)\n",
    "    return arr\n",
    "\n",
    "arr_50 = np.array([1, 2, 3, 4, 5])\n",
    "indices_to_insert = [2, 4]\n",
    "values_to_insert = [10, 11] \n",
    "indices_to_delete = [1, 3]\n",
    "\n",
    "ans_50 = insert_delete(arr_50, values_to_insert, indices_to_insert, indices_to_delete)\n",
    "print(\"Final Modified array \\n\", ans_50)\n"
   ]
  },
  {
   "cell_type": "code",
   "execution_count": 6,
   "id": "83dda4ad",
   "metadata": {},
   "outputs": [
    {
     "name": "stdout",
     "output_type": "stream",
     "text": [
      "Array1 \n",
      " [10  2 15  1 11  3  9  9 10  9]\n",
      "Array2 \n",
      " [ 1  2  3  4  5  6  7  8  9 10]\n",
      "Element wise addition \n",
      " [11  4 18  5 16  9 16 17 19 19]\n"
     ]
    }
   ],
   "source": [
    "# 51. Create a NumPy array `arr1` with random integers and another array `arr2` with integers from 1 to 10. \n",
    "# Perform element-wise addition between `arr1` and `arr2`.\n",
    "\n",
    "import numpy as np\n",
    "\n",
    "arr1 = np.random.randint(1, 21, size=10)  \n",
    "arr2 = np.arange(1, 11)\n",
    "\n",
    "print(\"Array1 \\n\", arr1)\n",
    "print(\"Array2 \\n\", arr2)\n",
    "ans_51 = arr1 + arr2\n",
    "print(\"Element wise addition \\n\", ans_51)\n",
    "\n"
   ]
  },
  {
   "cell_type": "code",
   "execution_count": 10,
   "id": "badee7dd",
   "metadata": {},
   "outputs": [
    {
     "name": "stdout",
     "output_type": "stream",
     "text": [
      "Array 1 \n",
      " [10  9  8  7  6  5  4  3  2  1]\n",
      "Array 2 \n",
      " [ 1  2  3  4  5  6  7  8  9 10]\n",
      "Subtracted Array \n",
      " [-9 -7 -5 -3 -1  1  3  5  7  9]\n"
     ]
    }
   ],
   "source": [
    "# 52. Generate a NumPy array `arr1` with sequential integers from 10 to 1 and another array `arr2` with integers \n",
    "# from 1 to 10. Subtract `arr2` from `arr1` element-wise.\n",
    "\n",
    "import numpy as np\n",
    "\n",
    "arr1 = np.arange(10, 0, -1)\n",
    "arr2 = np.arange(1, 11)\n",
    "\n",
    "print(\"Array 1 \\n\", arr1)\n",
    "print(\"Array 2 \\n\", arr2)\n",
    "ans_52 = arr2 - arr1\n",
    "print(\"Subtracted Array \\n\" , ans_52)"
   ]
  },
  {
   "cell_type": "code",
   "execution_count": 7,
   "id": "083aabc6",
   "metadata": {},
   "outputs": [
    {
     "name": "stdout",
     "output_type": "stream",
     "text": [
      "Array 1: [13 18  4  4 13]\n",
      "Array 2: [1 2 3 4 5]\n",
      "Element-wise multiplication: [13 36 12 16 65]\n"
     ]
    }
   ],
   "source": [
    "# 53. Create a NumPy array `arr1` with random integers and another array `arr2` with integers from 1 to 5. \n",
    "# Perform element-wise multiplication between `arr1` and `arr2`.\n",
    "\n",
    "import numpy as np\n",
    "\n",
    "arr1 = np.random.randint(1, 20, size = 5)\n",
    "arr2 = np.arange(1, 6)\n",
    "ans_53 = arr1 * arr2\n",
    "\n",
    "print(\"Array 1:\", arr1)\n",
    "print(\"Array 2:\", arr2)\n",
    "print(\"Element-wise multiplication:\", ans_53)"
   ]
  },
  {
   "cell_type": "code",
   "execution_count": 9,
   "id": "cfae4c22",
   "metadata": {},
   "outputs": [
    {
     "name": "stdout",
     "output_type": "stream",
     "text": [
      "Array1 : [ 2  4  6  8 10]\n",
      "Array2 : [1 2 3 4 5]\n",
      "Resulting Array : [2. 2. 2. 2. 2.]\n"
     ]
    }
   ],
   "source": [
    "# 54. Generate a NumPy array `arr1` with even integers from 2 to 10 and another array `arr2` with integers from 1 to 5. \n",
    "# Perform element-wise division of `arr1` by `arr2`.\n",
    "\n",
    "import numpy as np\n",
    "\n",
    "arr1 = np.arange(2, 11, 2)\n",
    "arr2 = np.arange(1, 6, 1)\n",
    "ans_54 = arr1 / arr2\n",
    "\n",
    "print(\"Array1 :\", arr1)\n",
    "print(\"Array2 :\", arr2)\n",
    "print(\"Resulting Array :\", ans_54)\n"
   ]
  },
  {
   "cell_type": "code",
   "execution_count": 10,
   "id": "75d974e4",
   "metadata": {},
   "outputs": [
    {
     "name": "stdout",
     "output_type": "stream",
     "text": [
      "Array1 : [1 2 3 4 5]\n",
      "Array2 : [5 4 3 2 1]\n",
      "Resultant Array : [ 1 16 27 16  5]\n"
     ]
    }
   ],
   "source": [
    "# 55. Create a NumPy array `arr1` with integers from 1 to 5 and another array `arr2` with the same numbers reversed. \n",
    "# Calculate the exponentiation of `arr1` raised to the power of `arr2` element-wise.\n",
    "\n",
    "import numpy as np\n",
    "\n",
    "arr1 = np.arange(1, 6, 1)\n",
    "arr2 = np.arange(5, 0, -1)\n",
    "\n",
    "ans_55 = arr1 ** arr2\n",
    "print(\"Array1 :\", arr1)\n",
    "print(\"Array2 :\", arr2)\n",
    "print(\"Resultant Array :\", ans_55)\n"
   ]
  },
  {
   "cell_type": "code",
   "execution_count": 24,
   "id": "f7b19535",
   "metadata": {},
   "outputs": [
    {
     "name": "stdout",
     "output_type": "stream",
     "text": [
      "Occurrence of a substring : [1 0 1 0 1]\n",
      "Count of occurrences of a substring : 3\n"
     ]
    }
   ],
   "source": [
    "# 56. Write a function that counts the occurrences of a specific substring within a NumPy array of strings.\n",
    "\n",
    "import numpy as np\n",
    "\n",
    "def occurrence_string(arr, substring):\n",
    "    count = np.char.count(arr, substring)\n",
    "    return count\n",
    "    \n",
    "arr_56 = np.array(['hello', 'world', 'hello', 'numpy', 'hello'])\n",
    "substring = \"hello\"\n",
    "ans_56 = occurrence_string(arr_56, substring)\n",
    "print(\"Occurrence of a substring :\", ans_56)\n",
    "print(\"Count of occurrences of a substring :\", ans_56.sum())\n"
   ]
  },
  {
   "cell_type": "code",
   "execution_count": 27,
   "id": "a5fc58d8",
   "metadata": {},
   "outputs": [
    {
     "name": "stdout",
     "output_type": "stream",
     "text": [
      "['H' 'W' 'OAI' 'GPT']\n"
     ]
    }
   ],
   "source": [
    "# 57. Write a function that extracts uppercase characters from a NumPy array of strings.\n",
    " \n",
    "import numpy as np\n",
    "\n",
    "def extract_uppercase(arr):\n",
    "    extract = lambda x: ''.join([char for char in x if char.isupper()])\n",
    "    vectorized_extract = np.vectorize(extract)\n",
    "    return vectorized_extract(arr)\n",
    "\n",
    "arr_57 = np.array(['Hello', 'World', 'OpenAI', 'GPT'])\n",
    "result = extract_uppercase(arr_57)\n",
    "print(result) \n"
   ]
  },
  {
   "cell_type": "code",
   "execution_count": 6,
   "id": "a803156a",
   "metadata": {},
   "outputs": [
    {
     "name": "stdout",
     "output_type": "stream",
     "text": [
      "Original Array:  ['apple' 'banana' 'grape' 'pineapple']\n",
      "Resultant Array:  ['fruit' 'banana' 'grape' 'pinefruit']\n"
     ]
    }
   ],
   "source": [
    "# 58. Write a function that replaces occurrences of a substring in a NumPy array of strings with a new string.\n",
    "\n",
    "import numpy as np\n",
    "\n",
    "def replace_substring(arr, old_substring, new_substring):\n",
    "    replace = lambda x : x.replace(old_substring, new_substring)\n",
    "    ans = np.vectorize(replace)\n",
    "    return ans(arr)\n",
    "\n",
    "arr_58 = np.array(['apple', 'banana', 'grape', 'pineapple'])\n",
    "ans_58 = replace_substring(arr_58, \"apple\", \"fruit\")\n",
    "print(\"Original Array: \", arr_58)\n",
    "print(\"Resultant Array: \", ans_58)"
   ]
  },
  {
   "cell_type": "code",
   "execution_count": 7,
   "id": "aee43ce0",
   "metadata": {},
   "outputs": [
    {
     "name": "stdout",
     "output_type": "stream",
     "text": [
      "Concatenated String : ['HelloOpen' 'WorldAI']\n"
     ]
    }
   ],
   "source": [
    "# 59. Write a function that concatenates strings in a NumPy array element-wise.\n",
    "\n",
    "import numpy as np\n",
    "\n",
    "def concatenate_string(Array1, Array2):\n",
    "    return Array1 + Array2 \n",
    "#   return np.char.add(Array1, Array2)\n",
    "\n",
    "arr1 = np.array(['Hello', 'World'])\n",
    "arr2 = np.array(['Open', 'AI'])\n",
    "\n",
    "ans_59 = concatenate_string(arr1, arr2)\n",
    "print(\"Concatenated String :\", ans_59)"
   ]
  },
  {
   "cell_type": "code",
   "execution_count": 16,
   "id": "6135f3af",
   "metadata": {},
   "outputs": [
    {
     "name": "stdout",
     "output_type": "stream",
     "text": [
      "9\n"
     ]
    }
   ],
   "source": [
    "# 60. Write a function that finds the length of the longest string in a NumPy array.\n",
    " \n",
    "import numpy as np\n",
    "\n",
    "def longest_string(arr):\n",
    "    length = np.vectorize(len)(arr)\n",
    "    return max(length)\n",
    "    \n",
    "arr_60 = np.array(['apple', 'banana', 'grape', 'pineapple'])\n",
    "ans_60 = longest_string(arr_60)\n",
    "print(ans_60)\n"
   ]
  },
  {
   "cell_type": "code",
   "execution_count": 25,
   "id": "30c28b18",
   "metadata": {},
   "outputs": [
    {
     "name": "stdout",
     "output_type": "stream",
     "text": [
      "      0\n",
      "0   475\n",
      "1   497\n",
      "2   607\n",
      "3   484\n",
      "4    53\n",
      "..  ...\n",
      "95  492\n",
      "96  181\n",
      "97  453\n",
      "98   33\n",
      "99   42\n",
      "\n",
      "[100 rows x 1 columns]\n",
      "Mean: 500.63\n",
      "Median: 507.5\n",
      "Variance: 0    75970.9731\n",
      "dtype: float64\n",
      "Standard Deviation: 0    275.628324\n",
      "dtype: float64\n"
     ]
    },
    {
     "name": "stderr",
     "output_type": "stream",
     "text": [
      "C:\\Users\\ASUS\\AppData\\Roaming\\Python\\Python39\\site-packages\\numpy\\_core\\fromnumeric.py:4006: FutureWarning: The behavior of DataFrame.var with axis=None is deprecated, in a future version this will reduce over both axes and return a scalar. To retain the old behavior, pass axis=0 (or do not pass axis)\n",
      "  return var(axis=axis, dtype=dtype, out=out, ddof=ddof, **kwargs)\n",
      "C:\\Users\\ASUS\\AppData\\Roaming\\Python\\Python39\\site-packages\\numpy\\_core\\fromnumeric.py:3800: FutureWarning: The behavior of DataFrame.std with axis=None is deprecated, in a future version this will reduce over both axes and return a scalar. To retain the old behavior, pass axis=0 (or do not pass axis)\n",
      "  return std(axis=axis, dtype=dtype, out=out, ddof=ddof, **kwargs)\n"
     ]
    }
   ],
   "source": [
    "# 61. Create a dataset of 100 random integers between 1 and 1000. Compute the mean, median, variance, and \n",
    "# standard deviation of the dataset using NumPy's functions.\n",
    "\n",
    "import numpy as np\n",
    "import pandas as pd\n",
    "\n",
    "data = np.random.randint(1, 1001, size=100)\n",
    "\n",
    "mean = np.mean(df)\n",
    "median = np.median(df)\n",
    "variance = np.var(df)\n",
    "std_dev = np.std(df)\n",
    "\n",
    "df = pd.DataFrame(data)\n",
    "print(df)\n",
    "print(\"Mean:\", mean)\n",
    "print(\"Median:\", median)\n",
    "print(\"Variance:\", variance)\n",
    "print(\"Standard Deviation:\", std_dev)\n",
    "\n",
    "\n"
   ]
  },
  {
   "cell_type": "code",
   "execution_count": 30,
   "id": "e1c0780c",
   "metadata": {},
   "outputs": [
    {
     "data": {
      "text/html": [
       "<div>\n",
       "<style scoped>\n",
       "    .dataframe tbody tr th:only-of-type {\n",
       "        vertical-align: middle;\n",
       "    }\n",
       "\n",
       "    .dataframe tbody tr th {\n",
       "        vertical-align: top;\n",
       "    }\n",
       "\n",
       "    .dataframe thead th {\n",
       "        text-align: right;\n",
       "    }\n",
       "</style>\n",
       "<table border=\"1\" class=\"dataframe\">\n",
       "  <thead>\n",
       "    <tr style=\"text-align: right;\">\n",
       "      <th></th>\n",
       "      <th>0</th>\n",
       "    </tr>\n",
       "  </thead>\n",
       "  <tbody>\n",
       "    <tr>\n",
       "      <th>count</th>\n",
       "      <td>50.000000</td>\n",
       "    </tr>\n",
       "    <tr>\n",
       "      <th>mean</th>\n",
       "      <td>50.300000</td>\n",
       "    </tr>\n",
       "    <tr>\n",
       "      <th>std</th>\n",
       "      <td>27.797555</td>\n",
       "    </tr>\n",
       "    <tr>\n",
       "      <th>min</th>\n",
       "      <td>4.000000</td>\n",
       "    </tr>\n",
       "    <tr>\n",
       "      <th>25%</th>\n",
       "      <td>24.000000</td>\n",
       "    </tr>\n",
       "    <tr>\n",
       "      <th>50%</th>\n",
       "      <td>46.500000</td>\n",
       "    </tr>\n",
       "    <tr>\n",
       "      <th>75%</th>\n",
       "      <td>73.750000</td>\n",
       "    </tr>\n",
       "    <tr>\n",
       "      <th>max</th>\n",
       "      <td>96.000000</td>\n",
       "    </tr>\n",
       "  </tbody>\n",
       "</table>\n",
       "</div>"
      ],
      "text/plain": [
       "               0\n",
       "count  50.000000\n",
       "mean   50.300000\n",
       "std    27.797555\n",
       "min     4.000000\n",
       "25%    24.000000\n",
       "50%    46.500000\n",
       "75%    73.750000\n",
       "max    96.000000"
      ]
     },
     "execution_count": 30,
     "metadata": {},
     "output_type": "execute_result"
    }
   ],
   "source": [
    "# 62. Generate an array of 50 random numbers between 1 and 100. Find the 25th and 75th percentiles of the dataset.\n",
    "\n",
    "import numpy as np\n",
    "import pandas as pd\n",
    "\n",
    "data = np.random.randint(1, 100, size = 50)\n",
    "df_62 = pd.DataFrame(data)\n",
    "\n",
    "df_62.describe()\n",
    "\n",
    "\n"
   ]
  },
  {
   "cell_type": "code",
   "execution_count": 31,
   "id": "c90b5c9e",
   "metadata": {},
   "outputs": [
    {
     "name": "stdout",
     "output_type": "stream",
     "text": [
      "0.8610770128070988\n"
     ]
    }
   ],
   "source": [
    "# 63. Create two arrays representing two sets of variables. Compute the correlation coefficient between these \n",
    "# arrays using NumPy's `corrcoef` function.\n",
    "\n",
    "import numpy as np\n",
    "\n",
    "arr1 = np.random.randn(100)\n",
    "arr2 = arr1 * 2 + np.random.randn(100)\n",
    "\n",
    "ans_63 = np.corrcoef(arr1, arr2)[0, 1]\n",
    "print(ans_63)"
   ]
  },
  {
   "cell_type": "code",
   "execution_count": 36,
   "id": "445a23d7",
   "metadata": {},
   "outputs": [
    {
     "name": "stdout",
     "output_type": "stream",
     "text": [
      "Array1 :\n",
      " [[4 6 1 7]\n",
      " [8 2 4 2]\n",
      " [2 3 6 5]]\n",
      "Array2 :\n",
      " [[4 4]\n",
      " [6 8]\n",
      " [4 2]\n",
      " [7 8]]\n",
      "Array after matrix multiplication :\n",
      " [[105 122]\n",
      " [ 74  72]\n",
      " [ 85  84]]\n"
     ]
    }
   ],
   "source": [
    "# 64. Create two matrices and perform matrix multiplication using NumPy's `dot` function.\n",
    "\n",
    "import numpy as np\n",
    "\n",
    "arr1 = np.random.randint(1, 10, size=(3, 4))\n",
    "arr2 = np.random.randint(1, 10, size=(4, 2))\n",
    "\n",
    "ans_64 = np.dot(arr1, arr2)\n",
    "print(\"Array1 :\\n\", arr1)\n",
    "print(\"Array2 :\\n\", arr2)\n",
    "print(\"Array after matrix multiplication :\\n\", ans_64)"
   ]
  },
  {
   "cell_type": "code",
   "execution_count": 40,
   "id": "5076ef9d",
   "metadata": {},
   "outputs": [
    {
     "name": "stdout",
     "output_type": "stream",
     "text": [
      "10th Percentile: 150.20000000000002\n",
      "Median (50th Percentile): 614.0\n",
      "90th Percentile: 919.7\n",
      "First Quartile (Q1): 280.25\n",
      "Third Quartile (Q3): 815.75\n"
     ]
    }
   ],
   "source": [
    "# 65. Create an array of 50 integers between 10 and 1000. Calculate the 10th, 50th (median), and 90th \n",
    "# percentiles along with the first and third quartiles.\n",
    "\n",
    "import numpy as np\n",
    "\n",
    "data = np.random.randint(10, 1001, size=50)\n",
    "percentile_10 = np.percentile(data, 10)\n",
    "percentile_50 = np.percentile(data, 50)  \n",
    "percentile_90 = np.percentile(data, 90)\n",
    "\n",
    "# Calculate first and third quartiles (25th and 75th percentiles)\n",
    "q1 = np.percentile(data, 25)\n",
    "q3 = np.percentile(data, 75)\n",
    "\n",
    "print(\"10th Percentile:\", percentile_10)\n",
    "print(\"Median (50th Percentile):\", percentile_50)\n",
    "print(\"90th Percentile:\", percentile_90)\n",
    "print(\"First Quartile (Q1):\", q1)\n",
    "print(\"Third Quartile (Q3):\", q3)\n"
   ]
  },
  {
   "cell_type": "code",
   "execution_count": 51,
   "id": "112f4441",
   "metadata": {},
   "outputs": [
    {
     "name": "stdout",
     "output_type": "stream",
     "text": [
      "Index of 32: 2\n"
     ]
    }
   ],
   "source": [
    "# 66. Create a NumPy array of integers and find the index of a specific element.\n",
    "\n",
    "import numpy as np\n",
    "\n",
    "arr = np.array([10, 25, 32, 18, 45, 5])\n",
    "\n",
    "index = np.where(arr == 32)[0][0]\n",
    "\n",
    "print(\"Index of 32:\", index)\n",
    "\n"
   ]
  },
  {
   "cell_type": "code",
   "execution_count": 57,
   "id": "cdfc7315",
   "metadata": {},
   "outputs": [
    {
     "name": "stdout",
     "output_type": "stream",
     "text": [
      "Original Array:  [47 23  4 45 41  8 11 30 11 42 24 38 44 12 45 47 23 34 40 29 22 40 30 32\n",
      " 49]\n",
      "Sorted Array:  [ 4  8 11 11 12 22 23 23 24 29 30 30 32 34 38 40 40 41 42 44 45 45 47 47\n",
      " 49]\n"
     ]
    }
   ],
   "source": [
    "# 67. Generate a random NumPy array and sort it in ascending order.\n",
    "\n",
    "import numpy as np\n",
    "\n",
    "data = np.random.randint(1, 50, size = 25)\n",
    "print(\"Original Array: \", data)\n",
    "ans_67 = np.sort(data)\n",
    "print(\"Sorted Array: \", ans_67)"
   ]
  },
  {
   "cell_type": "code",
   "execution_count": 60,
   "id": "56d2b5f2",
   "metadata": {},
   "outputs": [
    {
     "name": "stdout",
     "output_type": "stream",
     "text": [
      "[25 42 30]\n"
     ]
    }
   ],
   "source": [
    "# 68. Filter elements >20  in the given NumPy array.\n",
    "\n",
    "import numpy as np\n",
    "\n",
    "arr_68 = np.array([12, 25, 6, 42, 8, 30])\n",
    "ans_68 = arr_68[arr_68 > 20]\n",
    "print(ans_68)"
   ]
  },
  {
   "cell_type": "code",
   "execution_count": 63,
   "id": "825ec41d",
   "metadata": {},
   "outputs": [
    {
     "name": "stdout",
     "output_type": "stream",
     "text": [
      "[12 15]\n"
     ]
    }
   ],
   "source": [
    "# 69. Filter elements which are divisible by 3 from a given NumPy array.\n",
    "\n",
    "import numpy as np\n",
    "\n",
    "arr_69 = np.array([1, 5, 8, 12, 15])\n",
    "ans_69 = arr_69[arr_69 % 3 == 0]\n",
    "print(ans_69)"
   ]
  },
  {
   "cell_type": "code",
   "execution_count": 69,
   "id": "1b8e305d",
   "metadata": {},
   "outputs": [
    {
     "name": "stdout",
     "output_type": "stream",
     "text": [
      "[20 30 40]\n"
     ]
    }
   ],
   "source": [
    "# 70. Filter elements which are ≥ 20 and ≤ 40 from a given NumPy array.\n",
    "\n",
    "import numpy as np\n",
    "\n",
    "arr_70 = np.array([10, 20, 30, 40, 50])\n",
    "ans_70 = arr_70[(arr_70 >= 20) & (arr_70 <= 40)]\n",
    "print(ans_70)"
   ]
  },
  {
   "cell_type": "code",
   "execution_count": 72,
   "id": "ce77e89e",
   "metadata": {},
   "outputs": [
    {
     "name": "stdout",
     "output_type": "stream",
     "text": [
      "=\n"
     ]
    }
   ],
   "source": [
    "# 71. For the given NumPy array, check its byte order using the `dtype` attribute byteorder.\n",
    "\n",
    "import numpy as np\n",
    "\n",
    "arr_71 = np.array([1, 2, 3])\n",
    "ans_71 = arr_71.dtype.byteorder\n",
    "print(ans_71)"
   ]
  },
  {
   "cell_type": "code",
   "execution_count": 2,
   "id": "1a91ee8d",
   "metadata": {},
   "outputs": [
    {
     "name": "stdout",
     "output_type": "stream",
     "text": [
      "Original Array: [1 2 3]\n",
      "Array after byte swapping:  [16777216 33554432 50331648]\n"
     ]
    }
   ],
   "source": [
    "# 72. For the given NumPy array, perform byte swapping in place using `byteswap()`.\n",
    "\n",
    "import numpy as np\n",
    "\n",
    "arr_72 = np.array([1, 2, 3], dtype=np.int32)\n",
    "print(\"Original Array:\", arr_72)\n",
    "arr_72.byteswap(inplace = True)\n",
    "print(\"Array after byte swapping: \", arr_72)"
   ]
  },
  {
   "cell_type": "code",
   "execution_count": 9,
   "id": "eea5e43f",
   "metadata": {},
   "outputs": [
    {
     "name": "stdout",
     "output_type": "stream",
     "text": [
      "Original Array:  [1 2 3]\n",
      "Resultant Array:  [16777216 33554432 50331648]\n"
     ]
    }
   ],
   "source": [
    "# 73. For the given NumPy array, swap its byte order without modifying the original array using `newbyteorder()`.\n",
    "\n",
    "import numpy as np\n",
    "\n",
    "arr_73 = np.array([1, 2, 3], dtype=np.int32)\n",
    "new_arr_73 = arr_73.view(arr_73.dtype.newbyteorder())   # AttributeError: `newbyteorder` was removed from the ndarray class in NumPy 2.0. Use `arr.view(arr.dtype.newbyteorder(order))` instead\n",
    "print(\"Original Array: \", arr_73)\n",
    "print(\"Resultant Array: \", new_arr_73)"
   ]
  },
  {
   "cell_type": "code",
   "execution_count": 12,
   "id": "d0baefce",
   "metadata": {},
   "outputs": [
    {
     "name": "stdout",
     "output_type": "stream",
     "text": [
      "Original Array:  [1 2 3]\n",
      "Resulltant Array:  [16777216 33554432 50331648]\n"
     ]
    }
   ],
   "source": [
    "# 74. For the given NumPy array and swap its byte order conditionally based on system endianness using `newbyteorder()`.\n",
    "\n",
    "import numpy as np\n",
    "\n",
    "arr_74 = np.array([1, 2, 3], dtype=np.int32)\n",
    "\n",
    "if np.little_endian:\n",
    "    new_arr = arr_74.view(arr_74.dtype.newbyteorder('>'))\n",
    "else:\n",
    "    new_arr = arr_74.view(arr_74.dtype.newbyteorder('<'))\n",
    "    \n",
    "print(\"Original Array: \", arr_74)\n",
    "print(\"Resulltant Array: \", new_arr)"
   ]
  },
  {
   "cell_type": "code",
   "execution_count": 13,
   "id": "797cb335",
   "metadata": {},
   "outputs": [
    {
     "name": "stdout",
     "output_type": "stream",
     "text": [
      "System is little-endian: False\n"
     ]
    }
   ],
   "source": [
    "# 75. For the given NumPy array, check if byte swapping is necessary for the current system using `dtype` attribute `byteorder`.\n",
    "\n",
    "import numpy as np\n",
    "\n",
    "arr_75 = np.array([1, 2, 3], dtype=np.int32)\n",
    "is_little_endian = arr.dtype.byteorder == '<'\n",
    "\n",
    "print(\"System is little-endian:\", is_little_endian)\n"
   ]
  },
  {
   "cell_type": "code",
   "execution_count": 14,
   "id": "33716934",
   "metadata": {},
   "outputs": [
    {
     "name": "stdout",
     "output_type": "stream",
     "text": [
      "Original array: [ 1  2  3  4  5  6  7  8  9 10]\n",
      "Modified copy: [100   2   3   4   5   6   7   8   9  10]\n"
     ]
    }
   ],
   "source": [
    "# 76. Create a NumPy array `arr1` with values from 1 to 10. Create a copy of `arr1` named `copy_arr` and modify \n",
    "# an element in `copy_arr`. Check if modifying `copy_arr` affects `arr1`.\n",
    "\n",
    "import numpy as np\n",
    "\n",
    "arr1 = np.array([1, 2, 3, 4, 5, 6, 7, 8, 9, 10])\n",
    "copy_arr = arr1.copy()\n",
    "\n",
    "copy_arr[0] = 100\n",
    "\n",
    "print(\"Original array:\", arr1)\n",
    "print(\"Modified copy:\", copy_arr)\n"
   ]
  },
  {
   "cell_type": "code",
   "execution_count": 33,
   "id": "811178eb",
   "metadata": {},
   "outputs": [
    {
     "name": "stdout",
     "output_type": "stream",
     "text": [
      "Original Array: \n",
      " [[41 24 12]\n",
      " [38 47 41]\n",
      " [33 46 38]]\n",
      "Sliced Array: \n",
      " [[47 41]\n",
      " [46 38]]\n",
      "Modified Sliced Array:\n",
      " [[99 41]\n",
      " [46 38]]\n",
      "Finalized Original Array: \n",
      " [[41 24 12]\n",
      " [38 99 41]\n",
      " [33 46 38]]\n"
     ]
    }
   ],
   "source": [
    "# 77. Create a 2D NumPy array `matrix` of shape (3, 3) with random integers. Extract a slice `view_slice` from \n",
    "# the matrix. Modify an element in `view_slice` and observe if it changes the original `matrix`.\n",
    "\n",
    "import numpy as np\n",
    "\n",
    "arr_77 = np.random.randint(1, 51, size = (3, 3))\n",
    "print(\"Original Array: \\n\", arr_77)\n",
    "\n",
    "view_slice = arr_77[1:, 1:]\n",
    "print(\"Sliced Array: \\n\", view_slice)\n",
    "\n",
    "view_slice[0, 0] = 99\n",
    "print(\"Modified Sliced Array:\\n\", view_slice)\n",
    "print(\"Finalized Original Array: \\n\", arr_77)"
   ]
  },
  {
   "cell_type": "code",
   "execution_count": 31,
   "id": "240bbeb3",
   "metadata": {},
   "outputs": [
    {
     "name": "stdout",
     "output_type": "stream",
     "text": [
      "Original Array: \n",
      " [[ 1  2  3]\n",
      " [ 4  5  6]\n",
      " [ 7  8  9]\n",
      " [10 11 12]]\n",
      "Sliced Array: \n",
      " [[ 5  6]\n",
      " [ 8  9]\n",
      " [11 12]]\n",
      "Finalized Array: \n",
      " [[10 11]\n",
      " [13 14]\n",
      " [16 17]]\n",
      "Final Original Array: \n",
      " [[ 1  2  3]\n",
      " [ 4  5  6]\n",
      " [ 7  8  9]\n",
      " [10 11 12]]\n"
     ]
    }
   ],
   "source": [
    "# 78. Create a NumPy array `array_a` of shape (4, 3) with sequential integers from 1 to 12. Extract a slice \n",
    "# `view_b` from `array_a` and broadcast the addition of 5 to view_b. Check if it alters the original `array_a`.\n",
    "\n",
    "import numpy as np\n",
    "\n",
    "arr_a = np.array([[1, 2, 3], \n",
    "                  [4, 5, 6],\n",
    "                  [7, 8, 9],\n",
    "                  [10, 11, 12]])\n",
    "print(\"Original Array: \\n\", arr_a)\n",
    "\n",
    "view_b = arr_a[1:, 1:]\n",
    "print(\"Sliced Array: \\n\", view_b)\n",
    "add = view_b + 5\n",
    "print(\"Finalized Array: \\n\", add)\n",
    "\n",
    "print(\"Final Original Array: \\n\", arr_a)"
   ]
  },
  {
   "cell_type": "code",
   "execution_count": 35,
   "id": "b41eaead",
   "metadata": {},
   "outputs": [
    {
     "name": "stdout",
     "output_type": "stream",
     "text": [
      "Original Array: \n",
      " [[1 2 3 4]\n",
      " [5 6 7 8]]\n",
      "Reshaped Array: \n",
      " [[1 2]\n",
      " [3 4]\n",
      " [5 6]\n",
      " [7 8]]\n",
      "Modified Reshaped Array: \n",
      " [[ 1  2]\n",
      " [ 3 60]\n",
      " [ 5  6]\n",
      " [ 7  8]]\n",
      "Final Original Array: \n",
      " [[ 1  2  3 60]\n",
      " [ 5  6  7  8]]\n"
     ]
    }
   ],
   "source": [
    "# 79. Create a NumPy array `orig_array` of shape (2, 4) with values from 1 to 8. Create a reshaped view \n",
    "# `reshaped_view` of shape (4, 2) from orig_array. Modify an element in `reshaped_view` and check if it \n",
    "# reflects changes in the original `orig_array`.\n",
    "\n",
    "import numpy as np\n",
    "\n",
    "arr_79 = np.array([[1, 2, 3, 4],\n",
    "                  [5, 6, 7, 8]])\n",
    "print(\"Original Array: \\n\", arr_79)\n",
    "\n",
    "reshaped_view = arr_79.reshape(4, 2)\n",
    "print(\"Reshaped Array: \\n\", reshaped_view)\n",
    "\n",
    "reshaped_view[1, 1] = 60\n",
    "print(\"Modified Reshaped Array: \\n\", reshaped_view)\n",
    "\n",
    "print(\"Final Original Array: \\n\", arr_79)\n",
    "\n",
    "\n"
   ]
  },
  {
   "cell_type": "code",
   "execution_count": 38,
   "id": "b6e1baf1",
   "metadata": {},
   "outputs": [
    {
     "name": "stdout",
     "output_type": "stream",
     "text": [
      "Original Array: \n",
      " [[ 2 27 33 19]\n",
      " [28 24 15 22]\n",
      " [ 9 18 25  8]]\n",
      "Data copy: \n",
      " [27 33 19 28 24 15 22  9 18 25  8]\n",
      "Modified data copy: \n",
      " [100  33  19  28  24  15  22   9  18  25   8]\n",
      "Final original Array: \n",
      " [[ 2 27 33 19]\n",
      " [28 24 15 22]\n",
      " [ 9 18 25  8]]\n"
     ]
    }
   ],
   "source": [
    "# 80. Create a NumPy array `data` of shape (3, 4) with random integers. Extract a copy `data_copy` of elements greater than 5. \n",
    "# Modify an element in `data_copy` and verify if it affects the original `data`.\n",
    "\n",
    "import numpy as np\n",
    "\n",
    "arr_80 = np.random.randint(1, 50, size = (3, 4))\n",
    "print(\"Original Array: \\n\", arr_80)\n",
    "\n",
    "data_copy = arr_80[arr_80 > 5]\n",
    "print(\"Data copy: \\n\", data_copy)\n",
    "\n",
    "data_copy[0] = 100\n",
    "print(\"Modified data copy: \\n\", data_copy)\n",
    "print(\"Final original Array: \\n\", arr_80)"
   ]
  },
  {
   "cell_type": "code",
   "execution_count": 39,
   "id": "3ff83476",
   "metadata": {},
   "outputs": [
    {
     "name": "stdout",
     "output_type": "stream",
     "text": [
      "Matrix A: \n",
      " [[18 18 34]\n",
      " [13 29 11]\n",
      " [26 28 47]]\n",
      "Matrix B: \n",
      " [[11 30 26]\n",
      " [28 35 11]\n",
      " [ 5 24 28]]\n",
      "Addition of matrices: \n",
      " [[29 48 60]\n",
      " [41 64 22]\n",
      " [31 52 75]]\n",
      "Subtraction of matrices: \n",
      " [[  7 -12   8]\n",
      " [-15  -6   0]\n",
      " [ 21   4  19]]\n"
     ]
    }
   ],
   "source": [
    "# 81. Create two matrices A and B of identical shape containing integers and perform addition and subtraction operations between them.\n",
    "\n",
    "import numpy as np\n",
    "\n",
    "matrix_A = np.random.randint(1, 51, size = (3, 3))\n",
    "matrix_B = np.random.randint(1, 51, size = (3, 3))\n",
    "\n",
    "print(\"Matrix A: \\n\", matrix_A)\n",
    "print(\"Matrix B: \\n\", matrix_B)\n",
    "\n",
    "print(\"Addition of matrices: \\n\", matrix_A + matrix_B)\n",
    "print(\"Subtraction of matrices: \\n\", matrix_A - matrix_B)"
   ]
  },
  {
   "cell_type": "code",
   "execution_count": 41,
   "id": "cc805e28",
   "metadata": {},
   "outputs": [
    {
     "name": "stdout",
     "output_type": "stream",
     "text": [
      "Matrix C: \n",
      " [[6 3]\n",
      " [7 8]\n",
      " [9 8]]\n",
      "Matrix D: \n",
      " [[3 6 8 3]\n",
      " [6 7 8 7]]\n",
      "Multiplication of Matrices: \n",
      " [[ 36  57  72  39]\n",
      " [ 69  98 120  77]\n",
      " [ 75 110 136  83]]\n"
     ]
    }
   ],
   "source": [
    "# 82. Generate two matrices `C` (3x2) and `D` (2x4) and perform matrix multiplication.\n",
    "\n",
    "import numpy as np\n",
    "\n",
    "C = np.random.randint(1, 10, size = (3, 2))\n",
    "D = np.random.randint(1, 10, size = (2, 4))\n",
    "\n",
    "print(\"Matrix C: \\n\", C)\n",
    "print(\"Matrix D: \\n\", D)\n",
    "\n",
    "print(\"Multiplication of Matrices: \\n\", np.dot(C, D))"
   ]
  },
  {
   "cell_type": "code",
   "execution_count": 42,
   "id": "7fc33736",
   "metadata": {},
   "outputs": [
    {
     "name": "stdout",
     "output_type": "stream",
     "text": [
      "Matrix E: \n",
      " [[20 17]\n",
      " [16  5]\n",
      " [19  9]]\n",
      "Transpose of Array: \n",
      " [[20 16 19]\n",
      " [17  5  9]]\n"
     ]
    }
   ],
   "source": [
    "# 83. Create a matrix `E` and find its transpose.\n",
    "\n",
    "import numpy as np\n",
    "\n",
    "E = np.random.randint(1, 21, size = (3, 2))\n",
    "print(\"Matrix E: \\n\", E)\n",
    "\n",
    "print(\"Transpose of Array: \\n\", E.transpose())"
   ]
  },
  {
   "cell_type": "code",
   "execution_count": 46,
   "id": "6c650739",
   "metadata": {},
   "outputs": [
    {
     "name": "stdout",
     "output_type": "stream",
     "text": [
      "Matrix F: \n",
      " [[1 4 1]\n",
      " [1 4 3]\n",
      " [3 4 2]]\n",
      "Determinant of matrix F:  16.000000000000007\n"
     ]
    }
   ],
   "source": [
    "# 84. Generate a square matrix `F` and compute its determinant.\n",
    "\n",
    "import numpy as np\n",
    "\n",
    "F = np.random.randint(1, 5, size = (3, 3))\n",
    "print(\"Matrix F: \\n\", F)\n",
    "\n",
    "print(\"Determinant of matrix F: \", np.linalg.det(F))"
   ]
  },
  {
   "cell_type": "code",
   "execution_count": 50,
   "id": "05af6c27",
   "metadata": {},
   "outputs": [
    {
     "name": "stdout",
     "output_type": "stream",
     "text": [
      "Matrix G:\n",
      " [[1 2 5]\n",
      " [9 9 2]\n",
      " [1 4 9]]\n",
      "Inverse of G:\n",
      " [[ 1.46  0.04 -0.82]\n",
      " [-1.58  0.08  0.86]\n",
      " [ 0.54 -0.04 -0.18]]\n"
     ]
    }
   ],
   "source": [
    "# 85. Create a square matrix `G` and find its inverse.\n",
    "\n",
    "import numpy as np\n",
    "\n",
    "G = np.random.randint(1, 10, size=(3, 3))\n",
    "\n",
    "G_inverse = np.linalg.inv(G)\n",
    "\n",
    "print(\"Matrix G:\\n\", G)\n",
    "print(\"Inverse of G:\\n\", G_inverse)\n"
   ]
  },
  {
   "cell_type": "code",
   "execution_count": null,
   "id": "6411cf6a",
   "metadata": {},
   "outputs": [],
   "source": []
  }
 ],
 "metadata": {
  "kernelspec": {
   "display_name": "Python 3 (ipykernel)",
   "language": "python",
   "name": "python3"
  },
  "language_info": {
   "codemirror_mode": {
    "name": "ipython",
    "version": 3
   },
   "file_extension": ".py",
   "mimetype": "text/x-python",
   "name": "python",
   "nbconvert_exporter": "python",
   "pygments_lexer": "ipython3",
   "version": "3.9.13"
  }
 },
 "nbformat": 4,
 "nbformat_minor": 5
}
